{
 "cells": [
  {
   "cell_type": "code",
   "execution_count": 1,
   "metadata": {},
   "outputs": [],
   "source": [
    "import tensorflow as tf\n",
    "import matplotlib.pyplot as plt"
   ]
  },
  {
   "cell_type": "code",
   "execution_count": 2,
   "metadata": {},
   "outputs": [],
   "source": [
    "def plot_loss(history):\n",
    "  # Use a log scale on y-axis to show the wide range of values.\n",
    "  plt.semilogy(history.epoch, history.history['loss'],\n",
    "               color='blue',label='loss')\n",
    "  plt.semilogy(history.epoch, history.history['val_loss'],\n",
    "               color='red',label='val_loss')\n",
    "\n",
    "  plt.xlabel('Epoch')\n",
    "  plt.ylabel('Loss')\n",
    "  plt.legend()"
   ]
  },
  {
   "cell_type": "code",
   "execution_count": 3,
   "metadata": {},
   "outputs": [
    {
     "name": "stdout",
     "output_type": "stream",
     "text": [
      "(60000, 28, 28, 1)\n",
      "(60000, 10)\n"
     ]
    }
   ],
   "source": [
    "(x_train, y_train), (x_test, y_test) = tf.keras.datasets.fashion_mnist.load_data()\n",
    "\n",
    "x_train = x_train / 255.0\n",
    "x_test = x_test / 255.0\n",
    "\n",
    "x_train = x_train.reshape(x_train.shape[0], 28, 28, 1).astype('float32')\n",
    "x_test = x_test.reshape(x_test.shape[0], 28, 28, 1).astype('float32')\n",
    "y_train = tf.keras.utils.to_categorical(y_train)\n",
    "y_test = tf.keras.utils.to_categorical(y_test)\n",
    "\n",
    "print(x_train.shape)\n",
    "print(y_train.shape)"
   ]
  },
  {
   "cell_type": "markdown",
   "metadata": {},
   "source": [
    "# LeNet"
   ]
  },
  {
   "cell_type": "code",
   "execution_count": 5,
   "metadata": {},
   "outputs": [
    {
     "name": "stdout",
     "output_type": "stream",
     "text": [
      "Epoch 1/60\n",
      "270/270 [==============================] - 4s 11ms/step - loss: 0.8762 - accuracy: 0.6831 - val_loss: 0.5308 - val_accuracy: 0.8028\n",
      "Epoch 2/60\n",
      "270/270 [==============================] - 3s 10ms/step - loss: 0.5616 - accuracy: 0.7937 - val_loss: 0.4688 - val_accuracy: 0.8242\n",
      "Epoch 3/60\n",
      "270/270 [==============================] - 3s 10ms/step - loss: 0.4962 - accuracy: 0.8164 - val_loss: 0.4172 - val_accuracy: 0.8428\n",
      "Epoch 4/60\n",
      "270/270 [==============================] - 3s 10ms/step - loss: 0.4596 - accuracy: 0.8303 - val_loss: 0.4066 - val_accuracy: 0.8437\n",
      "Epoch 5/60\n",
      "270/270 [==============================] - 3s 9ms/step - loss: 0.4312 - accuracy: 0.8418 - val_loss: 0.3727 - val_accuracy: 0.8645\n",
      "Epoch 6/60\n",
      "270/270 [==============================] - 2s 9ms/step - loss: 0.4108 - accuracy: 0.8487 - val_loss: 0.3648 - val_accuracy: 0.8665\n",
      "Epoch 7/60\n",
      "270/270 [==============================] - 2s 9ms/step - loss: 0.3982 - accuracy: 0.8533 - val_loss: 0.3488 - val_accuracy: 0.8698\n",
      "Epoch 8/60\n",
      "270/270 [==============================] - 3s 9ms/step - loss: 0.3846 - accuracy: 0.8578 - val_loss: 0.3373 - val_accuracy: 0.8720\n",
      "Epoch 9/60\n",
      "270/270 [==============================] - 3s 10ms/step - loss: 0.3779 - accuracy: 0.8609 - val_loss: 0.3302 - val_accuracy: 0.8775\n",
      "Epoch 10/60\n",
      "270/270 [==============================] - 3s 10ms/step - loss: 0.3665 - accuracy: 0.8648 - val_loss: 0.3244 - val_accuracy: 0.8763\n",
      "Epoch 11/60\n",
      "270/270 [==============================] - 3s 10ms/step - loss: 0.3581 - accuracy: 0.8671 - val_loss: 0.3149 - val_accuracy: 0.8830\n",
      "Epoch 12/60\n",
      "270/270 [==============================] - 3s 9ms/step - loss: 0.3494 - accuracy: 0.8713 - val_loss: 0.3207 - val_accuracy: 0.8823\n",
      "Epoch 13/60\n",
      "270/270 [==============================] - 3s 9ms/step - loss: 0.3475 - accuracy: 0.8710 - val_loss: 0.3186 - val_accuracy: 0.8813\n",
      "Epoch 14/60\n",
      "270/270 [==============================] - 3s 9ms/step - loss: 0.3381 - accuracy: 0.8747 - val_loss: 0.3051 - val_accuracy: 0.8833\n",
      "Epoch 15/60\n",
      "270/270 [==============================] - 3s 10ms/step - loss: 0.3348 - accuracy: 0.8766 - val_loss: 0.2991 - val_accuracy: 0.8887\n",
      "Epoch 16/60\n",
      "270/270 [==============================] - 3s 9ms/step - loss: 0.3289 - accuracy: 0.8767 - val_loss: 0.3037 - val_accuracy: 0.8845\n",
      "Epoch 17/60\n",
      "270/270 [==============================] - 2s 9ms/step - loss: 0.3247 - accuracy: 0.8793 - val_loss: 0.2977 - val_accuracy: 0.8890\n",
      "Epoch 18/60\n",
      "270/270 [==============================] - 3s 9ms/step - loss: 0.3203 - accuracy: 0.8806 - val_loss: 0.2935 - val_accuracy: 0.8920\n",
      "Epoch 19/60\n",
      "270/270 [==============================] - 3s 9ms/step - loss: 0.3148 - accuracy: 0.8824 - val_loss: 0.2939 - val_accuracy: 0.8903\n",
      "Epoch 20/60\n",
      "270/270 [==============================] - 3s 9ms/step - loss: 0.3098 - accuracy: 0.8831 - val_loss: 0.2810 - val_accuracy: 0.8938\n",
      "Epoch 21/60\n",
      "270/270 [==============================] - 3s 9ms/step - loss: 0.3105 - accuracy: 0.8835 - val_loss: 0.2854 - val_accuracy: 0.8945\n",
      "Epoch 22/60\n",
      "270/270 [==============================] - 3s 9ms/step - loss: 0.3077 - accuracy: 0.8844 - val_loss: 0.2927 - val_accuracy: 0.8910\n",
      "Epoch 23/60\n",
      "270/270 [==============================] - 3s 10ms/step - loss: 0.3046 - accuracy: 0.8853 - val_loss: 0.2919 - val_accuracy: 0.8897\n",
      "Epoch 24/60\n",
      "270/270 [==============================] - 3s 10ms/step - loss: 0.2990 - accuracy: 0.8877 - val_loss: 0.2812 - val_accuracy: 0.8927\n",
      "Epoch 25/60\n",
      "270/270 [==============================] - 3s 9ms/step - loss: 0.2998 - accuracy: 0.8858 - val_loss: 0.2759 - val_accuracy: 0.8972\n",
      "Epoch 26/60\n",
      "270/270 [==============================] - 3s 10ms/step - loss: 0.2936 - accuracy: 0.8896 - val_loss: 0.2796 - val_accuracy: 0.8948\n",
      "Epoch 27/60\n",
      "270/270 [==============================] - 3s 10ms/step - loss: 0.2947 - accuracy: 0.8884 - val_loss: 0.2805 - val_accuracy: 0.8957\n",
      "Epoch 28/60\n",
      "270/270 [==============================] - 3s 9ms/step - loss: 0.2887 - accuracy: 0.8904 - val_loss: 0.2784 - val_accuracy: 0.8988\n",
      "Epoch 29/60\n",
      "270/270 [==============================] - 3s 10ms/step - loss: 0.2888 - accuracy: 0.8899 - val_loss: 0.2733 - val_accuracy: 0.8987\n",
      "Epoch 30/60\n",
      "270/270 [==============================] - 3s 9ms/step - loss: 0.2825 - accuracy: 0.8929 - val_loss: 0.2721 - val_accuracy: 0.8977\n",
      "Epoch 31/60\n",
      "270/270 [==============================] - 3s 9ms/step - loss: 0.2834 - accuracy: 0.8927 - val_loss: 0.2739 - val_accuracy: 0.8975\n",
      "Epoch 32/60\n",
      "270/270 [==============================] - 3s 9ms/step - loss: 0.2825 - accuracy: 0.8936 - val_loss: 0.2702 - val_accuracy: 0.8983\n",
      "Epoch 33/60\n",
      "270/270 [==============================] - 3s 9ms/step - loss: 0.2799 - accuracy: 0.8942 - val_loss: 0.2626 - val_accuracy: 0.9008\n",
      "Epoch 34/60\n",
      "270/270 [==============================] - 3s 9ms/step - loss: 0.2769 - accuracy: 0.8965 - val_loss: 0.2703 - val_accuracy: 0.8955\n",
      "Epoch 35/60\n",
      "270/270 [==============================] - 3s 9ms/step - loss: 0.2771 - accuracy: 0.8950 - val_loss: 0.2690 - val_accuracy: 0.8995\n",
      "Epoch 36/60\n",
      "270/270 [==============================] - 2s 9ms/step - loss: 0.2730 - accuracy: 0.8956 - val_loss: 0.2633 - val_accuracy: 0.8997\n",
      "Epoch 37/60\n",
      "270/270 [==============================] - 3s 10ms/step - loss: 0.2722 - accuracy: 0.8966 - val_loss: 0.2643 - val_accuracy: 0.9032\n",
      "Epoch 38/60\n",
      "270/270 [==============================] - 3s 10ms/step - loss: 0.2721 - accuracy: 0.8960 - val_loss: 0.2588 - val_accuracy: 0.9038\n",
      "Epoch 39/60\n",
      "270/270 [==============================] - 3s 9ms/step - loss: 0.2692 - accuracy: 0.8977 - val_loss: 0.2670 - val_accuracy: 0.8992\n",
      "Epoch 40/60\n",
      "270/270 [==============================] - 3s 10ms/step - loss: 0.2687 - accuracy: 0.8971 - val_loss: 0.2668 - val_accuracy: 0.8990\n",
      "Epoch 41/60\n",
      "270/270 [==============================] - 3s 9ms/step - loss: 0.2687 - accuracy: 0.8978 - val_loss: 0.2648 - val_accuracy: 0.8997\n",
      "Epoch 42/60\n",
      "270/270 [==============================] - 3s 10ms/step - loss: 0.2645 - accuracy: 0.8992 - val_loss: 0.2672 - val_accuracy: 0.8998\n",
      "Epoch 43/60\n",
      "270/270 [==============================] - 3s 10ms/step - loss: 0.2652 - accuracy: 0.8996 - val_loss: 0.2628 - val_accuracy: 0.9012\n",
      "Epoch 44/60\n",
      "270/270 [==============================] - 3s 10ms/step - loss: 0.2646 - accuracy: 0.8986 - val_loss: 0.2556 - val_accuracy: 0.9043\n",
      "Epoch 45/60\n",
      "270/270 [==============================] - 3s 10ms/step - loss: 0.2618 - accuracy: 0.9019 - val_loss: 0.2623 - val_accuracy: 0.9053\n",
      "Epoch 46/60\n",
      "270/270 [==============================] - 3s 9ms/step - loss: 0.2623 - accuracy: 0.9013 - val_loss: 0.2586 - val_accuracy: 0.9067\n",
      "Epoch 47/60\n",
      "270/270 [==============================] - 2s 9ms/step - loss: 0.2558 - accuracy: 0.9019 - val_loss: 0.2599 - val_accuracy: 0.9017\n",
      "Epoch 48/60\n",
      "270/270 [==============================] - 3s 10ms/step - loss: 0.2595 - accuracy: 0.9002 - val_loss: 0.2558 - val_accuracy: 0.9060\n",
      "Epoch 49/60\n",
      "270/270 [==============================] - 3s 9ms/step - loss: 0.2589 - accuracy: 0.9016 - val_loss: 0.2578 - val_accuracy: 0.9067\n",
      "Epoch 50/60\n",
      "270/270 [==============================] - 3s 9ms/step - loss: 0.2541 - accuracy: 0.9028 - val_loss: 0.2634 - val_accuracy: 0.9018\n",
      "Epoch 51/60\n",
      "270/270 [==============================] - 3s 9ms/step - loss: 0.2526 - accuracy: 0.9029 - val_loss: 0.2647 - val_accuracy: 0.8993\n",
      "Epoch 52/60\n",
      "270/270 [==============================] - 3s 9ms/step - loss: 0.2538 - accuracy: 0.9023 - val_loss: 0.2573 - val_accuracy: 0.9048\n",
      "Epoch 53/60\n",
      "270/270 [==============================] - 3s 9ms/step - loss: 0.2552 - accuracy: 0.9022 - val_loss: 0.2581 - val_accuracy: 0.9008\n",
      "Epoch 54/60\n",
      "270/270 [==============================] - 3s 10ms/step - loss: 0.2507 - accuracy: 0.9045 - val_loss: 0.2574 - val_accuracy: 0.9018\n",
      "Epoch 55/60\n",
      "270/270 [==============================] - 3s 10ms/step - loss: 0.2499 - accuracy: 0.9036 - val_loss: 0.2518 - val_accuracy: 0.9073\n",
      "Epoch 56/60\n",
      "270/270 [==============================] - 3s 9ms/step - loss: 0.2522 - accuracy: 0.9033 - val_loss: 0.2685 - val_accuracy: 0.8970\n",
      "Epoch 57/60\n",
      "270/270 [==============================] - 3s 9ms/step - loss: 0.2458 - accuracy: 0.9071 - val_loss: 0.2546 - val_accuracy: 0.9063\n",
      "Epoch 58/60\n",
      "270/270 [==============================] - 3s 10ms/step - loss: 0.2477 - accuracy: 0.9057 - val_loss: 0.2625 - val_accuracy: 0.9017\n",
      "Epoch 59/60\n",
      "270/270 [==============================] - 3s 9ms/step - loss: 0.2486 - accuracy: 0.9039 - val_loss: 0.2583 - val_accuracy: 0.9070\n",
      "Epoch 60/60\n",
      "270/270 [==============================] - 3s 9ms/step - loss: 0.2454 - accuracy: 0.9064 - val_loss: 0.2522 - val_accuracy: 0.9057\n"
     ]
    }
   ],
   "source": [
    "model = tf.keras.models.Sequential([\n",
    "    tf.keras.layers.Conv2D(6,(5,5),activation=\"relu\",input_shape=x_train.shape[1:],padding='valid'),\n",
    "    tf.keras.layers.MaxPool2D((2,2)),\n",
    "    tf.keras.layers.Conv2D(10,(5,5),activation=\"relu\"),\n",
    "    tf.keras.layers.MaxPool2D((2,2)),\n",
    "    tf.keras.layers.Flatten(),\n",
    "    tf.keras.layers.Dropout(0.3),\n",
    "    tf.keras.layers.Dense(120,activation='relu'),\n",
    "    tf.keras.layers.Dense(84,activation='relu'),\n",
    "    tf.keras.layers.Dense(10,activation='softmax')\n",
    "])\n",
    "\n",
    "model.compile(\n",
    "    optimizer=tf.keras.optimizers.Adam(),\n",
    "    loss=tf.keras.losses.CategoricalCrossentropy(),\n",
    "    metrics=[\"accuracy\"]\n",
    ")\n",
    "\n",
    "# model.summary()\n",
    "\n",
    "history = model.fit(x_train,y_train,validation_split=0.1,epochs=60, batch_size=200)"
   ]
  },
  {
   "cell_type": "code",
   "execution_count": 6,
   "metadata": {},
   "outputs": [
    {
     "data": {
      "image/png": "[encoded data removed]",
      "text/plain": [
       "<Figure size 640x480 with 1 Axes>"
      ]
     },
     "metadata": {},
     "output_type": "display_data"
    }
   ],
   "source": [
    "plot_loss(history)"
   ]
  },
  {
   "cell_type": "code",
   "execution_count": 7,
   "metadata": {},
   "outputs": [
    {
     "name": "stdout",
     "output_type": "stream",
     "text": [
      "10000/10000 [==============================] - 63s 6ms/step - loss: 0.2708 - accuracy: 0.9011\n"
     ]
    },
    {
     "data": {
      "text/plain": [
       "[0.27078568935394287, 0.9010999798774719]"
      ]
     },
     "execution_count": 7,
     "metadata": {},
     "output_type": "execute_result"
    }
   ],
   "source": [
    "model.evaluate(x_test,y_test, batch_size=1)"
   ]
  },
  {
   "cell_type": "markdown",
   "metadata": {},
   "source": [
    "# VGG"
   ]
  },
  {
   "cell_type": "code",
   "execution_count": 10,
   "metadata": {},
   "outputs": [
    {
     "name": "stdout",
     "output_type": "stream",
     "text": [
      "Epoch 1/10\n",
      "1500/1500 [==============================] - 13s 8ms/step - loss: 0.8890 - Accuracy: 0.6690 - val_loss: 0.6138 - val_Accuracy: 0.7692\n",
      "Epoch 2/10\n",
      "1500/1500 [==============================] - 17s 11ms/step - loss: 0.5978 - Accuracy: 0.7781 - val_loss: 0.5269 - val_Accuracy: 0.8059\n",
      "Epoch 3/10\n",
      "1500/1500 [==============================] - 11s 8ms/step - loss: 0.5248 - Accuracy: 0.8066 - val_loss: 0.4867 - val_Accuracy: 0.8163\n",
      "Epoch 4/10\n",
      "1500/1500 [==============================] - 11s 8ms/step - loss: 0.4768 - Accuracy: 0.8239 - val_loss: 0.4590 - val_Accuracy: 0.8313\n",
      "Epoch 5/10\n",
      "1500/1500 [==============================] - 11s 8ms/step - loss: 0.4436 - Accuracy: 0.8360 - val_loss: 0.4237 - val_Accuracy: 0.8383\n",
      "Epoch 6/10\n",
      "1500/1500 [==============================] - 11s 8ms/step - loss: 0.4204 - Accuracy: 0.8451 - val_loss: 0.4260 - val_Accuracy: 0.8407\n",
      "Epoch 7/10\n",
      "1500/1500 [==============================] - 11s 8ms/step - loss: 0.4031 - Accuracy: 0.8514 - val_loss: 0.4049 - val_Accuracy: 0.8498\n",
      "Epoch 8/10\n",
      "1500/1500 [==============================] - 11s 8ms/step - loss: 0.3880 - Accuracy: 0.8562 - val_loss: 0.3979 - val_Accuracy: 0.8509\n",
      "Epoch 9/10\n",
      "1500/1500 [==============================] - 11s 8ms/step - loss: 0.3749 - Accuracy: 0.8590 - val_loss: 0.3941 - val_Accuracy: 0.8522\n",
      "Epoch 10/10\n",
      "1500/1500 [==============================] - 16s 11ms/step - loss: 0.3614 - Accuracy: 0.8656 - val_loss: 0.3806 - val_Accuracy: 0.8570\n"
     ]
    }
   ],
   "source": [
    "model = tf.keras.models.Sequential([\n",
    "    tf.keras.layers.Conv2D(64,(1,1),activation=\"relu\",input_shape=x_train.shape[1:]),\n",
    "    tf.keras.layers.MaxPool2D((2,2)),\n",
    "    tf.keras.layers.Conv2D(112,(2,2),activation=\"relu\"),\n",
    "    tf.keras.layers.MaxPool2D((2,2)),\n",
    "    tf.keras.layers.Conv2D(256,(2,2),activation=\"relu\"),\n",
    "    tf.keras.layers.MaxPool2D((2,2)),\n",
    "    tf.keras.layers.Conv2D(512,(2,2),activation=\"relu\"),\n",
    "    tf.keras.layers.Flatten(),\n",
    "    tf.keras.layers.Dropout(0.3),\n",
    "    tf.keras.layers.Dense(120,activation='relu'),\n",
    "    tf.keras.layers.Dense(84,activation='relu'),\n",
    "    tf.keras.layers.Dense(10,activation='sigmoid')\n",
    "])\n",
    "\n",
    "model.compile(\n",
    "    optimizer=tf.keras.optimizers.Adam(0.0001),\n",
    "    loss=tf.keras.losses.CategoricalCrossentropy(),\n",
    "    metrics=[\"Accuracy\"]\n",
    ")\n",
    "\n",
    "# model.summary()\n",
    "\n",
    "history = model.fit(x_train,y_train,validation_split=0.2,epochs=10)"
   ]
  },
  {
   "cell_type": "code",
   "execution_count": 11,
   "metadata": {},
   "outputs": [
    {
     "data": {
      "image/png": "[encoded data removed]",
      "text/plain": [
       "<Figure size 640x480 with 1 Axes>"
      ]
     },
     "metadata": {},
     "output_type": "display_data"
    }
   ],
   "source": [
    "plot_loss(history)"
   ]
  },
  {
   "cell_type": "code",
   "execution_count": 12,
   "metadata": {},
   "outputs": [
    {
     "name": "stdout",
     "output_type": "stream",
     "text": [
      "10000/10000 [==============================] - 37s 4ms/step - loss: 0.3942 - Accuracy: 0.8541\n"
     ]
    }
   ],
   "source": [
    "model.evaluate(x_test,y_test, batch_size=1)\n",
    "model.save('./TP1/fashion_mnist/fashion_mnist.keras')"
   ]
  }
 ],
 "metadata": {
  "kernelspec": {
   "display_name": "Python 3",
   "language": "python",
   "name": "python3"
  },
  "language_info": {
   "codemirror_mode": {
    "name": "ipython",
    "version": 3
   },
   "file_extension": ".py",
   "mimetype": "text/x-python",
   "name": "python",
   "nbconvert_exporter": "python",
   "pygments_lexer": "ipython3",
   "version": "3.9.18"
  }
 },
 "nbformat": 4,
 "nbformat_minor": 2
}
